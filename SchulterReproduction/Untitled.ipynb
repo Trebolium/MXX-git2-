{
 "cells": [
  {
   "cell_type": "code",
   "execution_count": 1,
   "metadata": {},
   "outputs": [
    {
     "name": "stderr",
     "output_type": "stream",
     "text": [
      "Using TensorFlow backend.\n"
     ]
    }
   ],
   "source": [
    "try:\n",
    "    from code.schultercore3 import *\n",
    "except ImportError:\n",
    "    from schultercore3 import *   # when running from terminal, the directory may not be identified as a package\n",
    "from keras.callbacks import ModelCheckpoint\n",
    "import os\n"
   ]
  },
  {
   "cell_type": "code",
   "execution_count": 2,
   "metadata": {},
   "outputs": [
    {
     "name": "stdout",
     "output_type": "stream",
     "text": [
      "gathering files...\n",
      "50 train files \n",
      " 3 validation files \n",
      " 1 test files\n"
     ]
    },
    {
     "name": "stderr",
     "output_type": "stream",
     "text": [
      "/Users/brendanoconnor/Desktop/APP/MXX-git2-/SchulterReproduction/schultercore3.py:23: YAMLLoadWarning: calling yaml.load() without Loader=... is deprecated, as the default Loader is unsafe. Please read https://msg.pyyaml.org/load for full details.\n",
      "  return yaml.load(open('params.yaml'))\n"
     ]
    }
   ],
   "source": [
    "\n",
    "params=load_parameters()\n",
    "\n",
    "#just to get number of files per set, used further down in step computing\n",
    "print('gathering files...')\n",
    "train_dir = 'jamendo/audioTrain/'\n",
    "train_files = [train_dir + x for x in os.listdir(train_dir) if x.endswith('.wav') or x.endswith('.ogg') or x.endswith('.mp3')]\n",
    "val_dir = 'jamendo/audioVal/'\n",
    "val_files = [val_dir + x for x in os.listdir(val_dir) if x.endswith('.wav') or x.endswith('.ogg') or x.endswith('.mp3')]\n",
    "test_dir = 'jamendo/audioTest/'\n",
    "test_files = [test_dir + x for x in os.listdir(test_dir) if x.endswith('.wav') or x.endswith('.ogg') or x.endswith('.mp3')]\n",
    "print(len(train_files), 'train files \\n', len(val_files), 'validation files \\n', len(test_files), 'test files')"
   ]
  },
  {
   "cell_type": "code",
   "execution_count": 3,
   "metadata": {},
   "outputs": [
    {
     "name": "stdout",
     "output_type": "stream",
     "text": [
      "WARNING:tensorflow:From /anaconda/lib/python3.6/site-packages/tensorflow/python/framework/op_def_library.py:263: colocate_with (from tensorflow.python.framework.ops) is deprecated and will be removed in a future version.\n",
      "Instructions for updating:\n",
      "Colocations handled automatically by placer.\n",
      "WARNING:tensorflow:From /anaconda/lib/python3.6/site-packages/Keras-2.2.4-py3.6.egg/keras/backend/tensorflow_backend.py:3721: calling dropout (from tensorflow.python.ops.nn_ops) with keep_prob is deprecated and will be removed in a future version.\n",
      "Instructions for updating:\n",
      "Please use `rate` instead of `keep_prob`. Rate should be set to `rate = 1 - keep_prob`.\n",
      "Model: \"sequential_1\"\n",
      "_________________________________________________________________\n",
      "Layer (type)                 Output Shape              Param #   \n",
      "=================================================================\n",
      "conv2d_1 (Conv2D)            (None, 78, 29259, 64)     640       \n",
      "_________________________________________________________________\n",
      "conv2d_2 (Conv2D)            (None, 76, 29257, 32)     18464     \n",
      "_________________________________________________________________\n",
      "max_pooling2d_1 (MaxPooling2 (None, 25, 9752, 32)      0         \n",
      "_________________________________________________________________\n",
      "conv2d_3 (Conv2D)            (None, 23, 9750, 128)     36992     \n",
      "_________________________________________________________________\n",
      "conv2d_4 (Conv2D)            (None, 21, 9748, 64)      73792     \n",
      "_________________________________________________________________\n",
      "max_pooling2d_2 (MaxPooling2 (None, 7, 3249, 64)       0         \n",
      "_________________________________________________________________\n",
      "flatten_1 (Flatten)          (None, 1455552)           0         \n",
      "_________________________________________________________________\n",
      "dropout_1 (Dropout)          (None, 1455552)           0         \n",
      "_________________________________________________________________\n",
      "dense_1 (Dense)              (None, 256)               372621568 \n",
      "_________________________________________________________________\n",
      "dropout_2 (Dropout)          (None, 256)               0         \n",
      "_________________________________________________________________\n",
      "dense_2 (Dense)              (None, 64)                16448     \n",
      "_________________________________________________________________\n",
      "dense_3 (Dense)              (None, 1)                 65        \n",
      "=================================================================\n",
      "Total params: 372,767,969\n",
      "Trainable params: 372,767,969\n",
      "Non-trainable params: 0\n",
      "_________________________________________________________________\n"
     ]
    }
   ],
   "source": [
    "\n",
    "# make sure we have the hdf5 data file\n",
    "hdf5_path = 'jamendo/jdataset.hdf5'\n",
    "if not os.path.isfile:\n",
    "    print('ERROR: HDF5-file not found! Run create_hdf5_dataset.py first!')\n",
    "    exit(0)\n",
    "\n",
    "# generate CNN model\n",
    "model = generate_network(params)\n",
    "model.summary()  # print a summary of the model\n"
   ]
  },
  {
   "cell_type": "code",
   "execution_count": 4,
   "metadata": {},
   "outputs": [],
   "source": [
    "# pre-compute number of steps\n",
    "hdf5_file = h5py.File(hdf5_path, \"r\")\n",
    "total_training_examples = params['num_train_steps'] * params['batch_size']\n",
    "num_val_steps = params['num_train_steps'] * len(val_files)/len(train_files)\n"
   ]
  },
  {
   "cell_type": "code",
   "execution_count": null,
   "metadata": {},
   "outputs": [],
   "source": [
    "# callbacks\n",
    "# save the best performing model\n",
    "save_best = ModelCheckpoint('trained_model.h5', monitor='val_loss', save_best_only=True)"
   ]
  },
  {
   "cell_type": "code",
   "execution_count": null,
   "metadata": {},
   "outputs": [
    {
     "name": "stdout",
     "output_type": "stream",
     "text": [
      "WARNING:tensorflow:From /anaconda/lib/python3.6/site-packages/tensorflow/python/ops/math_ops.py:3066: to_int32 (from tensorflow.python.ops.math_ops) is deprecated and will be removed in a future version.\n",
      "Instructions for updating:\n",
      "Use tf.cast instead.\n",
      "Epoch 1/1\n",
      "Numsteps: 0/1250\n",
      "Numsteps: 1/1250\n",
      "Numsteps: 2/1250\n",
      "Numsteps: 3/1250\n",
      "Numsteps: 4/1250\n",
      "Numsteps: 5/1250\n",
      "Numsteps: 6/1250\n",
      "Numsteps: 7/1250\n",
      "Numsteps: 8/1250\n",
      "Numsteps: 9/1250\n",
      "Numsteps: 10/1250\n",
      "Numsteps: 11/1250\n"
     ]
    }
   ],
   "source": [
    "# train\n",
    "model.fit_generator(data_generator('train', params['num_train_steps'], True, hdf5_path, params),\n",
    "                    steps_per_epoch=params['num_train_steps'],\n",
    "                    epochs=params['epochs'],\n",
    "                    validation_data=data_generator('val', num_val_steps, False, hdf5_path, params),\n",
    "                    validation_steps=num_val_steps,\n",
    "                    callbacks=[save_best])"
   ]
  },
  {
   "cell_type": "code",
   "execution_count": null,
   "metadata": {},
   "outputs": [],
   "source": []
  }
 ],
 "metadata": {
  "kernelspec": {
   "display_name": "Python 3",
   "language": "python",
   "name": "python3"
  },
  "language_info": {
   "codemirror_mode": {
    "name": "ipython",
    "version": 3
   },
   "file_extension": ".py",
   "mimetype": "text/x-python",
   "name": "python",
   "nbconvert_exporter": "python",
   "pygments_lexer": "ipython3",
   "version": "3.6.8"
  }
 },
 "nbformat": 4,
 "nbformat_minor": 2
}
